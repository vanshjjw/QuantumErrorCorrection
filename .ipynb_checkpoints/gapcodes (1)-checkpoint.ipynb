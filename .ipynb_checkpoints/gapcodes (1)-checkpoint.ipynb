{
 "cells": [
  {
   "cell_type": "code",
   "execution_count": 16,
   "metadata": {},
   "outputs": [],
   "source": [
    "import numpy as np\n",
    "import subprocess\n",
    "import re\n",
    "def convert_to_gap_mat(mat):\n",
    "        \"\"\"\n",
    "        Args: \n",
    "            mat (np.array): matrix \n",
    "        \"\"\"\n",
    "        mat = np.array(mat,dtype=int)\n",
    "        n_rows, n_cols = mat.shape\n",
    "        mat_str = [','.join(map(str, row)) for row in mat]\n",
    "        mat_str = '],\\n['.join(mat_str)\n",
    "        gap_code = \"M := [\".format(n_rows,n_cols) + \"[\" + mat_str + \"]];;\\n\"\n",
    "        return gap_code \n",
    "\n",
    "def definecode(h):    \n",
    "    commands='LoadPackage(\"guava\");;'+convert_to_gap_mat(h)+'c:=GeneratorMatCode(M,GF(2));'\n",
    "    #start_time = time.time()\n",
    "    process = subprocess.Popen(['gap'], stdin=subprocess.PIPE, stdout=subprocess.PIPE, stderr=subprocess.PIPE, text=True)\n",
    "    stdout, stderr = process.communicate(commands)\n",
    "    #Remove the special characters from gap's output like colours etc so you can search through it\n",
    "    #ansi_escape = re.compile(r'\\x1B\\[[0-?]*[ -/]*[@-~]')\n",
    "    #stdout=ansi_escape.sub('', stdout)\n",
    "    #stdout=stdout.strip().replace(\" \", \"\")\n",
    "    print(stdout)\n",
    "    return stdout"
   ]
  },
  {
   "cell_type": "code",
   "execution_count": 17,
   "metadata": {},
   "outputs": [
    {
     "name": "stdout",
     "output_type": "stream",
     "text": [
      " ┌───────┐   GAP 4.13.0 of 2024-03-15\n",
      " │  GAP  │   https://www.gap-system.org\n",
      " └───────┘   Architecture: aarch64-apple-darwin23-default64-kv9\n",
      " Configuration:  gmp 6.3.0, GASMAN\n",
      " Loading the library and packages ...\n",
      "\n",
      " Packages:   AClib 1.3.2, Alnuth 3.2.1, AtlasRep 2.1.8, AutPGrp 1.11, \n",
      "             Browse 1.8.21, CaratInterface 2.3.6, CRISP 1.4.6, Cryst 4.1.27, \n",
      "             CrystCat 1.1.10, CTblLib 1.3.9, curlInterface 2.3.2, \n",
      "             FactInt 1.6.3, FGA 1.5.0, Forms 1.2.9, GAPDoc 1.6.7, genss 1.6.8, \n",
      "             IO 4.8.2, IRREDSOL 1.4.4, LAGUNA 3.9.6, orb 4.9.0, \n",
      "             Polenta 1.3.10, Polycyclic 2.16, PrimGrp 3.4.4, RadiRoot 2.9, \n",
      "             recog 1.4.2, ResClasses 4.7.3, SmallGrp 1.5.3, Sophus 1.27, \n",
      "             SpinSym 1.5.2, StandardFF 1.0, TomLib 1.2.11, TransGrp 3.6.5, \n",
      "             utils 0.85\n",
      " Try '??help' for help. See also '?copyright', '?cite' and '?authors'\n",
      "\u001b[1m\u001b[34mgap> \u001b[0m\u001b[31m\n",
      "  ___________________________________________________________________________\n",
      " /        ___\n",
      "||       /   \\                 /\\    Version 2.9.6\n",
      "||      ||   ||  |\\    |      /  \\               /\\       Erhard Aichinger\n",
      " \\___   ||   ||  |\\\\   |     /____\\_____________/__\\      Franz Binder\n",
      "     \\  ||   ||  | \\\\  |    /      \\     ||    /    \\     Juergen Ecker\n",
      "     ||  \\___/   |  \\\\ |   /        \\    ||   /      \\    Peter Mayr\n",
      "     ||          |   \\\\|  /          \\   ||               Christof Noebauer\n",
      " \\___/           |    \\|                 ||\n",
      "\n",
      " System    Of   Nearrings     And      Their Applications\n",
      " Info: https://gap-packages.github.io/sonata/\n",
      "\n",
      "\n",
      "   ____                             |\n",
      "  /                \\          /   --+--  Version 3.18\n",
      " /       |     | |\\ \\        / /|   |\n",
      "|    __  |     | | \\ \\      / / |          the GUAVA Group\n",
      "|      | |     | |--\\ \\    / /--|\n",
      " \\     | |     | |   \\ \\  / /   |\n",
      "  \\___/   \\___/  |    \\ \\/ /    |\n",
      "\n",
      " Homepage: https://gap-packages.github.io/guava\n",
      " Report issues at https://github.com/gap-packages/guava/issues\n",
      "\u001b[1m\u001b[34m> \u001b[0m\u001b[31m\u001b[1m\u001b[34mgap> \u001b[0m\u001b[31m\u001b[1m\u001b[34m> \u001b[0m\u001b[31ma linear [4,2,1..2]1..2 code defined by generator matrix over GF(2)\n",
      "\n"
     ]
    },
    {
     "data": {
      "text/plain": [
       "\" ┌───────┐   GAP 4.13.0 of 2024-03-15\\n │  GAP  │   https://www.gap-system.org\\n └───────┘   Architecture: aarch64-apple-darwin23-default64-kv9\\n Configuration:  gmp 6.3.0, GASMAN\\n Loading the library and packages ...\\n\\n Packages:   AClib 1.3.2, Alnuth 3.2.1, AtlasRep 2.1.8, AutPGrp 1.11, \\n             Browse 1.8.21, CaratInterface 2.3.6, CRISP 1.4.6, Cryst 4.1.27, \\n             CrystCat 1.1.10, CTblLib 1.3.9, curlInterface 2.3.2, \\n             FactInt 1.6.3, FGA 1.5.0, Forms 1.2.9, GAPDoc 1.6.7, genss 1.6.8, \\n             IO 4.8.2, IRREDSOL 1.4.4, LAGUNA 3.9.6, orb 4.9.0, \\n             Polenta 1.3.10, Polycyclic 2.16, PrimGrp 3.4.4, RadiRoot 2.9, \\n             recog 1.4.2, ResClasses 4.7.3, SmallGrp 1.5.3, Sophus 1.27, \\n             SpinSym 1.5.2, StandardFF 1.0, TomLib 1.2.11, TransGrp 3.6.5, \\n             utils 0.85\\n Try '??help' for help. See also '?copyright', '?cite' and '?authors'\\n\\x1b[1m\\x1b[34mgap> \\x1b[0m\\x1b[31m\\n  ___________________________________________________________________________\\n /        ___\\n||       /   \\\\                 /\\\\    Version 2.9.6\\n||      ||   ||  |\\\\    |      /  \\\\               /\\\\       Erhard Aichinger\\n \\\\___   ||   ||  |\\\\\\\\   |     /____\\\\_____________/__\\\\      Franz Binder\\n     \\\\  ||   ||  | \\\\\\\\  |    /      \\\\     ||    /    \\\\     Juergen Ecker\\n     ||  \\\\___/   |  \\\\\\\\ |   /        \\\\    ||   /      \\\\    Peter Mayr\\n     ||          |   \\\\\\\\|  /          \\\\   ||               Christof Noebauer\\n \\\\___/           |    \\\\|                 ||\\n\\n System    Of   Nearrings     And      Their Applications\\n Info: https://gap-packages.github.io/sonata/\\n\\n\\n   ____                             |\\n  /                \\\\          /   --+--  Version 3.18\\n /       |     | |\\\\ \\\\        / /|   |\\n|    __  |     | | \\\\ \\\\      / / |          the GUAVA Group\\n|      | |     | |--\\\\ \\\\    / /--|\\n \\\\     | |     | |   \\\\ \\\\  / /   |\\n  \\\\___/   \\\\___/  |    \\\\ \\\\/ /    |\\n\\n Homepage: https://gap-packages.github.io/guava\\n Report issues at https://github.com/gap-packages/guava/issues\\n\\x1b[1m\\x1b[34m> \\x1b[0m\\x1b[31m\\x1b[1m\\x1b[34mgap> \\x1b[0m\\x1b[31m\\x1b[1m\\x1b[34m> \\x1b[0m\\x1b[31ma linear [4,2,1..2]1..2 code defined by generator matrix over GF(2)\\n\""
      ]
     },
     "execution_count": 17,
     "metadata": {},
     "output_type": "execute_result"
    }
   ],
   "source": [
    "definecode([[1,1,0,0],[0,0,1,1]])"
   ]
  },
  {
   "cell_type": "code",
   "execution_count": null,
   "metadata": {},
   "outputs": [],
   "source": []
  }
 ],
 "metadata": {
  "kernelspec": {
   "display_name": "Python 3 (ipykernel)",
   "language": "python",
   "name": "python3"
  },
  "language_info": {
   "codemirror_mode": {
    "name": "ipython",
    "version": 3
   },
   "file_extension": ".py",
   "mimetype": "text/x-python",
   "name": "python",
   "nbconvert_exporter": "python",
   "pygments_lexer": "ipython3",
   "version": "3.9.13"
  }
 },
 "nbformat": 4,
 "nbformat_minor": 2
}
